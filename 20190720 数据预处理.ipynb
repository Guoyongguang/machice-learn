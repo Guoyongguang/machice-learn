{
 "cells": [
  {
   "cell_type": "code",
   "execution_count": 1,
   "metadata": {},
   "outputs": [],
   "source": [
    "data = [[-1, 2], [-0.5, 6], [0, 10], [1, 18]]"
   ]
  },
  {
   "cell_type": "code",
   "execution_count": 3,
   "metadata": {},
   "outputs": [],
   "source": [
    "import numpy as np"
   ]
  },
  {
   "cell_type": "code",
   "execution_count": 7,
   "metadata": {},
   "outputs": [
    {
     "data": {
      "text/plain": [
       "array([[-1. ,  2. ],\n",
       "       [-0.5,  6. ],\n",
       "       [ 0. , 10. ],\n",
       "       [ 1. , 18. ]])"
      ]
     },
     "execution_count": 7,
     "metadata": {},
     "output_type": "execute_result"
    }
   ],
   "source": [
    "X1 = np.array(data)\n",
    "X1"
   ]
  },
  {
   "cell_type": "code",
   "execution_count": 17,
   "metadata": {},
   "outputs": [
    {
     "data": {
      "text/plain": [
       "array([[0.  , 0.  ],\n",
       "       [0.25, 0.25],\n",
       "       [0.5 , 0.5 ],\n",
       "       [1.  , 1.  ]])"
      ]
     },
     "execution_count": 17,
     "metadata": {},
     "output_type": "execute_result"
    }
   ],
   "source": [
    "X1_nor = (X1 - X1.min(axis=0))/(X1.max(axis=0) - X1.min(axis=0))\n",
    "X1_nor"
   ]
  },
  {
   "cell_type": "code",
   "execution_count": 16,
   "metadata": {},
   "outputs": [
    {
     "data": {
      "text/html": [
       "<div>\n",
       "<style scoped>\n",
       "    .dataframe tbody tr th:only-of-type {\n",
       "        vertical-align: middle;\n",
       "    }\n",
       "\n",
       "    .dataframe tbody tr th {\n",
       "        vertical-align: top;\n",
       "    }\n",
       "\n",
       "    .dataframe thead th {\n",
       "        text-align: right;\n",
       "    }\n",
       "</style>\n",
       "<table border=\"1\" class=\"dataframe\">\n",
       "  <thead>\n",
       "    <tr style=\"text-align: right;\">\n",
       "      <th></th>\n",
       "      <th>0</th>\n",
       "      <th>1</th>\n",
       "    </tr>\n",
       "  </thead>\n",
       "  <tbody>\n",
       "    <tr>\n",
       "      <th>0</th>\n",
       "      <td>-1.0</td>\n",
       "      <td>2</td>\n",
       "    </tr>\n",
       "    <tr>\n",
       "      <th>1</th>\n",
       "      <td>-0.5</td>\n",
       "      <td>6</td>\n",
       "    </tr>\n",
       "    <tr>\n",
       "      <th>2</th>\n",
       "      <td>0.0</td>\n",
       "      <td>10</td>\n",
       "    </tr>\n",
       "    <tr>\n",
       "      <th>3</th>\n",
       "      <td>1.0</td>\n",
       "      <td>18</td>\n",
       "    </tr>\n",
       "  </tbody>\n",
       "</table>\n",
       "</div>"
      ],
      "text/plain": [
       "     0   1\n",
       "0 -1.0   2\n",
       "1 -0.5   6\n",
       "2  0.0  10\n",
       "3  1.0  18"
      ]
     },
     "execution_count": 16,
     "metadata": {},
     "output_type": "execute_result"
    }
   ],
   "source": [
    "import pandas as pd\n",
    "X2 = pd.DataFrame(data)\n",
    "X2"
   ]
  },
  {
   "cell_type": "code",
   "execution_count": 23,
   "metadata": {},
   "outputs": [
    {
     "data": {
      "text/html": [
       "<div>\n",
       "<style scoped>\n",
       "    .dataframe tbody tr th:only-of-type {\n",
       "        vertical-align: middle;\n",
       "    }\n",
       "\n",
       "    .dataframe tbody tr th {\n",
       "        vertical-align: top;\n",
       "    }\n",
       "\n",
       "    .dataframe thead th {\n",
       "        text-align: right;\n",
       "    }\n",
       "</style>\n",
       "<table border=\"1\" class=\"dataframe\">\n",
       "  <thead>\n",
       "    <tr style=\"text-align: right;\">\n",
       "      <th></th>\n",
       "      <th>0</th>\n",
       "      <th>1</th>\n",
       "    </tr>\n",
       "  </thead>\n",
       "  <tbody>\n",
       "    <tr>\n",
       "      <th>0</th>\n",
       "      <td>0.00</td>\n",
       "      <td>0.00</td>\n",
       "    </tr>\n",
       "    <tr>\n",
       "      <th>1</th>\n",
       "      <td>0.25</td>\n",
       "      <td>0.25</td>\n",
       "    </tr>\n",
       "    <tr>\n",
       "      <th>2</th>\n",
       "      <td>0.50</td>\n",
       "      <td>0.50</td>\n",
       "    </tr>\n",
       "    <tr>\n",
       "      <th>3</th>\n",
       "      <td>1.00</td>\n",
       "      <td>1.00</td>\n",
       "    </tr>\n",
       "  </tbody>\n",
       "</table>\n",
       "</div>"
      ],
      "text/plain": [
       "      0     1\n",
       "0  0.00  0.00\n",
       "1  0.25  0.25\n",
       "2  0.50  0.50\n",
       "3  1.00  1.00"
      ]
     },
     "execution_count": 23,
     "metadata": {},
     "output_type": "execute_result"
    }
   ],
   "source": [
    "X2_nor = (X2 - X2.min())/(X2.max() - X2.min())\n",
    "X2_nor"
   ]
  },
  {
   "cell_type": "code",
   "execution_count": 25,
   "metadata": {},
   "outputs": [
    {
     "data": {
      "text/plain": [
       "[[-1, 2], [-0.5, 6], [0, 10], [1, 18]]"
      ]
     },
     "execution_count": 25,
     "metadata": {},
     "output_type": "execute_result"
    }
   ],
   "source": [
    "data"
   ]
  },
  {
   "cell_type": "code",
   "execution_count": 26,
   "metadata": {},
   "outputs": [],
   "source": [
    "#利用sklearn进行归一化\n",
    "from sklearn.preprocessing import MinMaxScaler\n",
    "\n",
    "scaler = MinMaxScaler() #实例化\n",
    "scaler = scaler.fit(data) #训练模型"
   ]
  },
  {
   "cell_type": "code",
   "execution_count": 30,
   "metadata": {},
   "outputs": [
    {
     "data": {
      "text/plain": [
       "array([[0.  , 0.  ],\n",
       "       [0.25, 0.25],\n",
       "       [0.5 , 0.5 ],\n",
       "       [1.  , 1.  ]])"
      ]
     },
     "execution_count": 30,
     "metadata": {},
     "output_type": "execute_result"
    }
   ],
   "source": [
    "result = scaler.transform(data) #通过transform接口查看结果\n",
    "result"
   ]
  },
  {
   "cell_type": "code",
   "execution_count": 31,
   "metadata": {},
   "outputs": [
    {
     "data": {
      "text/plain": [
       "array([[0.  , 0.  ],\n",
       "       [0.25, 0.25],\n",
       "       [0.5 , 0.5 ],\n",
       "       [1.  , 1.  ]])"
      ]
     },
     "execution_count": 31,
     "metadata": {},
     "output_type": "execute_result"
    }
   ],
   "source": [
    "#可以fit_transform一起实现\n",
    "scaler.fit_transform(data)"
   ]
  },
  {
   "cell_type": "code",
   "execution_count": 32,
   "metadata": {},
   "outputs": [
    {
     "data": {
      "text/plain": [
       "array([[-1. ,  2. ],\n",
       "       [-0.5,  6. ],\n",
       "       [ 0. , 10. ],\n",
       "       [ 1. , 18. ]])"
      ]
     },
     "execution_count": 32,
     "metadata": {},
     "output_type": "execute_result"
    }
   ],
   "source": [
    "#将结果逆转回来\n",
    "\n",
    "scaler = MinMaxScaler() #实例化\n",
    "scaler = scaler.fit(data) #训练模型\n",
    "result = scaler.transform(data) #通过transform接口查看结果\n",
    "scaler.inverse_transform(result)"
   ]
  },
  {
   "cell_type": "code",
   "execution_count": 34,
   "metadata": {},
   "outputs": [],
   "source": [
    "#更改feature_range为(10,15)\n",
    "scaler = MinMaxScaler(feature_range=(10, 15)) #实例化\n",
    "scaler = scaler.fit(data) #训练模型\n",
    "result = scaler.transform(data) #通过transform接口查看结果\n",
    "scaler.inverse_transform(result)"
   ]
  },
  {
   "cell_type": "code",
   "execution_count": 35,
   "metadata": {},
   "outputs": [
    {
     "data": {
      "text/plain": [
       "StandardScaler(copy=True, with_mean=True, with_std=True)"
      ]
     },
     "execution_count": 35,
     "metadata": {},
     "output_type": "execute_result"
    }
   ],
   "source": [
    "#标准化\n",
    "from sklearn.preprocessing import StandardScaler #导入标准化的包\n",
    "data = [[-1, 2], [-0.5, 6], [0, 10], [1, 18]]\n",
    "\n",
    "scaler = StandardScaler() #实例化\n",
    "scaler.fit(data) #fit，本质是生成均值和方差"
   ]
  },
  {
   "cell_type": "code",
   "execution_count": 36,
   "metadata": {},
   "outputs": [
    {
     "data": {
      "text/plain": [
       "array([-0.125,  9.   ])"
      ]
     },
     "execution_count": 36,
     "metadata": {},
     "output_type": "execute_result"
    }
   ],
   "source": [
    "scaler.mean_ #查看均值的属性mean_"
   ]
  },
  {
   "cell_type": "code",
   "execution_count": 39,
   "metadata": {},
   "outputs": [
    {
     "data": {
      "text/plain": [
       "array([-0.125,  9.   ])"
      ]
     },
     "execution_count": 39,
     "metadata": {},
     "output_type": "execute_result"
    }
   ],
   "source": [
    "np.array(data).mean(axis=0) #与scaler.mean_返回的结果一致"
   ]
  },
  {
   "cell_type": "code",
   "execution_count": 40,
   "metadata": {},
   "outputs": [
    {
     "data": {
      "text/plain": [
       "array([ 0.546875, 35.      ])"
      ]
     },
     "execution_count": 40,
     "metadata": {},
     "output_type": "execute_result"
    }
   ],
   "source": [
    "scaler.var_ #查看方差的属性var_"
   ]
  },
  {
   "cell_type": "code",
   "execution_count": 41,
   "metadata": {},
   "outputs": [
    {
     "data": {
      "text/plain": [
       "array([[-1.18321596, -1.18321596],\n",
       "       [-0.50709255, -0.50709255],\n",
       "       [ 0.16903085,  0.16903085],\n",
       "       [ 1.52127766,  1.52127766]])"
      ]
     },
     "execution_count": 41,
     "metadata": {},
     "output_type": "execute_result"
    }
   ],
   "source": [
    "x_std = scaler.transform(data) #通过接口导出结果\n",
    "x_std"
   ]
  },
  {
   "cell_type": "code",
   "execution_count": 42,
   "metadata": {},
   "outputs": [
    {
     "data": {
      "text/plain": [
       "array([[-1. ,  2. ],\n",
       "       [-0.5,  6. ],\n",
       "       [ 0. , 10. ],\n",
       "       [ 1. , 18. ]])"
      ]
     },
     "execution_count": 42,
     "metadata": {},
     "output_type": "execute_result"
    }
   ],
   "source": [
    "scaler.inverse_transform(x_std) #使用inverse_transform逆转标准化"
   ]
  },
  {
   "cell_type": "markdown",
   "metadata": {},
   "source": [
    "#### 练习\n",
    "1.生成100个随机数    \n",
    "2.对随机数进行升序排序    \n",
    "3.绘制这100个数的直方图    \n",
    "4.对数据进行标准化处理    \n",
    "5.再次绘制标准化处理过后的直方图    "
   ]
  },
  {
   "cell_type": "code",
   "execution_count": 43,
   "metadata": {},
   "outputs": [],
   "source": [
    "import numpy as np\n",
    "import matplotlib.pyplot as plt\n",
    "%matplotlib inline"
   ]
  },
  {
   "cell_type": "code",
   "execution_count": 44,
   "metadata": {},
   "outputs": [],
   "source": [
    "#生成100个随机数\n",
    "X = np.random.rand(100)"
   ]
  },
  {
   "cell_type": "code",
   "execution_count": 47,
   "metadata": {},
   "outputs": [],
   "source": [
    "#排序\n",
    "X.sort() #将原数据集进行升序排序，并且直接改变原数据集\n",
    "\n",
    "#tips:如果运行一行代码之后，什么都没有返回，则说明这个操作直接执行在原数据集上"
   ]
  },
  {
   "cell_type": "code",
   "execution_count": 52,
   "metadata": {},
   "outputs": [
    {
     "data": {
      "image/png": "[encoded data removed]",
      "text/plain": [
       "<Figure size 432x288 with 1 Axes>"
      ]
     },
     "metadata": {
      "needs_background": "light"
     },
     "output_type": "display_data"
    }
   ],
   "source": [
    "#绘制这100个数的直方图\n",
    "plt.hist(X);\n",
    "#分号；起到抑制文本返回的作用，与plt.show()的功能一样"
   ]
  },
  {
   "cell_type": "code",
   "execution_count": 54,
   "metadata": {},
   "outputs": [
    {
     "data": {
      "text/plain": [
       "array([[-1.72785151],\n",
       "       [-1.69431469],\n",
       "       [-1.65313192],\n",
       "       [-1.58743208],\n",
       "       [-1.58494248],\n",
       "       [-1.58078068],\n",
       "       [-1.57647173],\n",
       "       [-1.57644362],\n",
       "       [-1.56745918],\n",
       "       [-1.56163574],\n",
       "       [-1.53199398],\n",
       "       [-1.47167364],\n",
       "       [-1.41609656],\n",
       "       [-1.41550737],\n",
       "       [-1.38306818],\n",
       "       [-1.2949724 ],\n",
       "       [-1.24415735],\n",
       "       [-1.21758056],\n",
       "       [-1.17520695],\n",
       "       [-1.16528009],\n",
       "       [-1.05760292],\n",
       "       [-1.02357682],\n",
       "       [-0.95173571],\n",
       "       [-0.89667244],\n",
       "       [-0.86823174],\n",
       "       [-0.82568214],\n",
       "       [-0.75963849],\n",
       "       [-0.71783466],\n",
       "       [-0.67968546],\n",
       "       [-0.66006453],\n",
       "       [-0.62024209],\n",
       "       [-0.59592946],\n",
       "       [-0.58600433],\n",
       "       [-0.57854231],\n",
       "       [-0.54259402],\n",
       "       [-0.43955932],\n",
       "       [-0.41551468],\n",
       "       [-0.40931195],\n",
       "       [-0.39148766],\n",
       "       [-0.33253769],\n",
       "       [-0.32299145],\n",
       "       [-0.27250922],\n",
       "       [-0.21914852],\n",
       "       [-0.18306394],\n",
       "       [-0.11760254],\n",
       "       [-0.08237151],\n",
       "       [-0.01843055],\n",
       "       [ 0.09790258],\n",
       "       [ 0.12923849],\n",
       "       [ 0.1397528 ],\n",
       "       [ 0.17135515],\n",
       "       [ 0.23514339],\n",
       "       [ 0.26043014],\n",
       "       [ 0.27810421],\n",
       "       [ 0.33036084],\n",
       "       [ 0.36300642],\n",
       "       [ 0.36735283],\n",
       "       [ 0.3747805 ],\n",
       "       [ 0.40003445],\n",
       "       [ 0.40476514],\n",
       "       [ 0.44189488],\n",
       "       [ 0.45705895],\n",
       "       [ 0.51096981],\n",
       "       [ 0.51211746],\n",
       "       [ 0.52544469],\n",
       "       [ 0.54083127],\n",
       "       [ 0.57861224],\n",
       "       [ 0.68086908],\n",
       "       [ 0.68271786],\n",
       "       [ 0.75943045],\n",
       "       [ 0.80983703],\n",
       "       [ 0.84121242],\n",
       "       [ 0.8622785 ],\n",
       "       [ 0.87247899],\n",
       "       [ 0.88820127],\n",
       "       [ 0.89112368],\n",
       "       [ 0.90526169],\n",
       "       [ 0.9890838 ],\n",
       "       [ 1.01645227],\n",
       "       [ 1.02273223],\n",
       "       [ 1.08972456],\n",
       "       [ 1.11710076],\n",
       "       [ 1.13370051],\n",
       "       [ 1.13464603],\n",
       "       [ 1.13856033],\n",
       "       [ 1.15040165],\n",
       "       [ 1.15475502],\n",
       "       [ 1.15536628],\n",
       "       [ 1.25851305],\n",
       "       [ 1.32364944],\n",
       "       [ 1.32875104],\n",
       "       [ 1.3307564 ],\n",
       "       [ 1.34410994],\n",
       "       [ 1.36322238],\n",
       "       [ 1.39809152],\n",
       "       [ 1.39823692],\n",
       "       [ 1.42081317],\n",
       "       [ 1.43659549],\n",
       "       [ 1.44927847],\n",
       "       [ 1.52745845]])"
      ]
     },
     "execution_count": 54,
     "metadata": {},
     "output_type": "execute_result"
    }
   ],
   "source": [
    "#标准化\n",
    "from sklearn.preprocessing import StandardScaler #导入标准化的包\n",
    "scaler = StandardScaler() #实例化\n",
    "result = scaler.fit_transform(X.reshape(-1,1)) #fit训练模型\n",
    "result"
   ]
  },
  {
   "cell_type": "code",
   "execution_count": 56,
   "metadata": {},
   "outputs": [
    {
     "data": {
      "image/png": "[encoded data removed]",
      "text/plain": [
       "<Figure size 432x288 with 1 Axes>"
      ]
     },
     "metadata": {
      "needs_background": "light"
     },
     "output_type": "display_data"
    }
   ],
   "source": [
    "#对标准化之后的数据进行直方图绘制\n",
    "plt.hist(result);"
   ]
  },
  {
   "cell_type": "code",
   "execution_count": 65,
   "metadata": {},
   "outputs": [
    {
     "data": {
      "image/png": "[encoded data removed]",
      "text/plain": [
       "<Figure size 864x288 with 2 Axes>"
      ]
     },
     "metadata": {
      "needs_background": "light"
     },
     "output_type": "display_data"
    }
   ],
   "source": [
    "#将两幅图放置到同一张画布中\n",
    "plt.figure(figsize=(12,4))\n",
    "\n",
    "plt.subplot(1,2,1)\n",
    "plt.hist(X,color='b',alpha=0.5)\n",
    "\n",
    "plt.subplot(1,2,2)\n",
    "plt.hist(result,color='r',alpha=0.5)\n",
    "plt.show()"
   ]
  },
  {
   "cell_type": "code",
   "execution_count": 67,
   "metadata": {},
   "outputs": [
    {
     "data": {
      "image/png": "[encoded data removed]",
      "text/plain": [
       "<Figure size 864x288 with 2 Axes>"
      ]
     },
     "metadata": {
      "needs_background": "light"
     },
     "output_type": "display_data"
    }
   ],
   "source": [
    "#扩展，生成满足正态分布的100个数，进行归一化处理，查看前后分布状况\n",
    "X1 = np.random.randn(100)\n",
    "X1.sort()\n",
    "\n",
    "scaler = MinMaxScaler()\n",
    "re = scaler.fit_transform(X1.reshape(-1,1)) \n",
    "\n",
    "#绘制归一化处理前后分布\n",
    "plt.figure(figsize=(12,4))\n",
    "plt.subplot(1,2,1)\n",
    "plt.hist(X1,color='b',alpha=0.5)\n",
    "plt.subplot(1,2,2)\n",
    "plt.hist(re,color='r',alpha=0.5)\n",
    "plt.show()"
   ]
  },
  {
   "cell_type": "code",
   "execution_count": null,
   "metadata": {},
   "outputs": [],
   "source": []
  }
 ],
 "metadata": {
  "kernelspec": {
   "display_name": "Python 3",
   "language": "python",
   "name": "python3"
  },
  "language_info": {
   "codemirror_mode": {
    "name": "ipython",
    "version": 3
   },
   "file_extension": ".py",
   "mimetype": "text/x-python",
   "name": "python",
   "nbconvert_exporter": "python",
   "pygments_lexer": "ipython3",
   "version": "3.7.1"
  }
 },
 "nbformat": 4,
 "nbformat_minor": 2
}
